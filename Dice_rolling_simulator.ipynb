{
  "nbformat": 4,
  "nbformat_minor": 0,
  "metadata": {
    "colab": {
      "provenance": [],
      "authorship_tag": "ABX9TyOCdXU6CQLXjbGFl7PAfEJ9",
      "include_colab_link": true
    },
    "kernelspec": {
      "name": "python3",
      "display_name": "Python 3"
    },
    "language_info": {
      "name": "python"
    }
  },
  "cells": [
    {
      "cell_type": "markdown",
      "metadata": {
        "id": "view-in-github",
        "colab_type": "text"
      },
      "source": [
        "<a href=\"https://colab.research.google.com/github/Audio619/Dice-rolling-simulator/blob/main/Dice_rolling_simulator.ipynb\" target=\"_parent\"><img src=\"https://colab.research.google.com/assets/colab-badge.svg\" alt=\"Open In Colab\"/></a>"
      ]
    },
    {
      "cell_type": "code",
      "execution_count": 2,
      "metadata": {
        "colab": {
          "base_uri": "https://localhost:8080/"
        },
        "id": "jhFJSK9fF2TL",
        "outputId": "b1770029-2984-434b-abda-b0f9b5660971"
      },
      "outputs": [
        {
          "output_type": "error",
          "ename": "SyntaxError",
          "evalue": "expected ':' (<ipython-input-2-76259512b5b9>, line 14)",
          "traceback": [
            "\u001b[0;36m  File \u001b[0;32m\"<ipython-input-2-76259512b5b9>\"\u001b[0;36m, line \u001b[0;32m14\u001b[0m\n\u001b[0;31m    if roll_again  !=\"y\"\u001b[0m\n\u001b[0m                        ^\u001b[0m\n\u001b[0;31mSyntaxError\u001b[0m\u001b[0;31m:\u001b[0m expected ':'\n"
          ]
        }
      ],
      "source": [
        "import random\n",
        "\n",
        "\n",
        "def roll_dice():\n",
        "  return random.randit(1,6)\n",
        "\n",
        "def main():\n",
        "  while true:\n",
        "    input (\"press enter to roll dice...\")\n",
        "    result= roll_dice ()\n",
        "    print(f\"you rolled a {result}!\")\n",
        "\n",
        "    roll_again= input(\"Do you want to roll agin?(y/n):\").lower()\n",
        "    if roll_again  !=\"y\"\n",
        "        break\n",
        "\n",
        "        if__name__==\"__main__\"\n",
        "            main()"
      ]
    }
  ]
}